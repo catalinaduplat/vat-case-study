{
 "cells": [
  {
   "cell_type": "markdown",
   "metadata": {},
   "source": [
    "# Scheduled data pipeline to load VAT rates"
   ]
  },
  {
   "cell_type": "markdown",
   "metadata": {},
   "source": [
    "**WORKFLOW MANAGEMENT TOOL SELECTION**"
   ]
  },
  {
   "cell_type": "markdown",
   "metadata": {},
   "source": [
    "<img src=\"resources/images/etl-comparison.png\" width=\"850\"/>"
   ]
  },
  {
   "attachments": {},
   "cell_type": "markdown",
   "metadata": {},
   "source": [
    "**ARCHITECTURE DEFINITION**\n",
    "\n",
    "- **Harbor**: Harbor is an open source cloud native registry that stores, signs, and scans container images for vulnerabilities.\n",
    "- **AWS Batch**: Dynamically allocates the resources to run the container, so there's no need to run a machine all the time.\n",
    "- **Cloudwatch**: Monitoring and observability service. Run pipeline at 00:00 am (UTC) every day\n",
    "- **Snowflake**: Snowflake comes with a Python connector, allowing us to use code to fire SQL queries to Snowflake to transform and aggregate data."
   ]
  },
  {
   "cell_type": "markdown",
   "metadata": {},
   "source": [
    "![title](resources/images/pipeline-architecture.png)"
   ]
  },
  {
   "cell_type": "code",
   "execution_count": 1,
   "metadata": {},
   "outputs": [],
   "source": [
    "import json\n",
    "import requests\n",
    "import pandas as pd\n",
    "from datetime import datetime\n",
    "from prefect import task, Flow, Parameter"
   ]
  },
  {
   "cell_type": "code",
   "execution_count": 2,
   "metadata": {},
   "outputs": [],
   "source": [
    "@task\n",
    "def extract(url: str) -> dict:\n",
    "    res = requests.get(url)\n",
    "    if not res:\n",
    "        raise Exception('No data fetched')\n",
    "    return json.loads(res.content)"
   ]
  },
  {
   "cell_type": "code",
   "execution_count": 3,
   "metadata": {},
   "outputs": [],
   "source": [
    "@task\n",
    "def transform(data: dict) -> pd.DataFrame:\n",
    "    \"\"\"\n",
    "        Transform data:\n",
    "        Create dataframe with rates information and last_updated date value\n",
    "        Replace missing values with 0's\n",
    "        Transform numeric column types to float\n",
    "        Split dataframe into countries and VAT rates\n",
    "    \"\"\"\n",
    "    return {'countries': pd.DataFrame([]), 'vat_rates': pd.DataFrame([])}"
   ]
  },
  {
   "cell_type": "code",
   "execution_count": 4,
   "metadata": {},
   "outputs": [],
   "source": [
    "@task\n",
    "def load(countries: pd.DataFrame, rates: pd.DataFrame, path: str) -> None:\n",
    "    \"\"\"\n",
    "        Create script to insert data into VATRates.\n",
    "        In case a new country is added or removed, Country table should be updated\n",
    "    \"\"\""
   ]
  },
  {
   "cell_type": "code",
   "execution_count": 5,
   "metadata": {},
   "outputs": [],
   "source": [
    "def prefect_flow():\n",
    "    with Flow(name='vat_rates_etl_pipeline') as flow:\n",
    "        param_url = Parameter(name='rates_url', required=True)\n",
    "        vat_info = extract(url=param_url)\n",
    "        data = transform(vat_info)\n",
    "        load(countries=data['countries'], rates=data['vat_rates'], path='')\n",
    "    return flow"
   ]
  },
  {
   "cell_type": "code",
   "execution_count": 6,
   "metadata": {},
   "outputs": [
    {
     "name": "stdout",
     "output_type": "stream",
     "text": [
      "[2022-03-02 18:52:20-0500] INFO - prefect.FlowRunner | Beginning Flow run for 'vat_rates_etl_pipeline'\n",
      "[2022-03-02 18:52:20-0500] INFO - prefect.TaskRunner | Task 'rates_url': Starting task run...\n",
      "[2022-03-02 18:52:20-0500] INFO - prefect.TaskRunner | Task 'rates_url': Finished task run for task with final state: 'Success'\n",
      "[2022-03-02 18:52:20-0500] INFO - prefect.TaskRunner | Task 'extract': Starting task run...\n",
      "[2022-03-02 18:52:21-0500] INFO - prefect.TaskRunner | Task 'extract': Finished task run for task with final state: 'Success'\n",
      "[2022-03-02 18:52:21-0500] INFO - prefect.TaskRunner | Task 'transform': Starting task run...\n",
      "[2022-03-02 18:52:21-0500] INFO - prefect.TaskRunner | Task 'transform': Finished task run for task with final state: 'Success'\n",
      "[2022-03-02 18:52:21-0500] INFO - prefect.TaskRunner | Task 'transform['countries']': Starting task run...\n",
      "[2022-03-02 18:52:21-0500] INFO - prefect.TaskRunner | Task 'transform['countries']': Finished task run for task with final state: 'Success'\n",
      "[2022-03-02 18:52:21-0500] INFO - prefect.TaskRunner | Task 'transform['vat_rates']': Starting task run...\n",
      "[2022-03-02 18:52:21-0500] INFO - prefect.TaskRunner | Task 'transform['vat_rates']': Finished task run for task with final state: 'Success'\n",
      "[2022-03-02 18:52:21-0500] INFO - prefect.TaskRunner | Task 'load': Starting task run...\n",
      "[2022-03-02 18:52:21-0500] INFO - prefect.TaskRunner | Task 'load': Finished task run for task with final state: 'Success'\n",
      "[2022-03-02 18:52:21-0500] INFO - prefect.FlowRunner | Flow run SUCCESS: all reference tasks succeeded\n"
     ]
    }
   ],
   "source": [
    "if __name__ == '__main__':\n",
    "    flow = prefect_flow()\n",
    "    flow.run(parameters={\n",
    "        'rates_url': 'https://raw.githubusercontent.com/benbucksch/eu-vat-rates/ce7a777b7bbdcc94e352d816282647271f6baebf/rates.json'\n",
    "    })"
   ]
  }
 ],
 "metadata": {
  "kernelspec": {
   "display_name": "Python 3",
   "language": "python",
   "name": "python3"
  },
  "language_info": {
   "codemirror_mode": {
    "name": "ipython",
    "version": 3
   },
   "file_extension": ".py",
   "mimetype": "text/x-python",
   "name": "python",
   "nbconvert_exporter": "python",
   "pygments_lexer": "ipython3",
   "version": "3.8.3"
  }
 },
 "nbformat": 4,
 "nbformat_minor": 4
}
