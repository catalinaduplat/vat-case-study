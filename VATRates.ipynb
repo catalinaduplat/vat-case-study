{
 "cells": [
  {
   "cell_type": "markdown",
   "metadata": {},
   "source": [
    "# Case study: VAT rates across Europe"
   ]
  },
  {
   "cell_type": "markdown",
   "metadata": {},
   "source": [
    "There's a <code>last_updated</code> ISO 8601 timestamp in the root that tells when the last VAT change (or bug fix) was made, and there is a <code>disclaimer</code>. The <code>rates</code> object contains all the different rates per country, based on its 2 character country code:\n",
    "\n",
    " ```\n",
    " countries = {\n",
    "  \"AT\": \"Austria\",\n",
    "  \"BE\": \"Belgium\",\n",
    "  \"BG\": \"Bulgaria\",\n",
    "  \"CY\": \"Cyprus\",\n",
    "  \"CZ\": \"Czech Republic\",\n",
    "  \"DE\": \"Germany\",\n",
    "  \"DK\": \"Denmark\",\n",
    "  \"EE\": \"Estonia\",\n",
    "  \"GR\": \"Greece\", \n",
    "  \"ES\": \"Spain\",\n",
    "  \"FI\": \"Finland\",\n",
    "  \"FR\": \"France\",\n",
    "  \"HR\": \"Croatia\",\n",
    "  \"HU\": \"Hungary\",\n",
    "  \"IE\": \"Ireland\",\n",
    "  \"IT\": \"Italy\",\n",
    "  \"LT\": \"Lithuania\",\n",
    "  \"LU\": \"Luxembourg\",\n",
    "  \"LV\": \"Latvia\",\n",
    "  \"MT\": \"Malta\",\n",
    "  \"NL\": \"The Netherlands\",\n",
    "  \"PL\": \"Poland\",\n",
    "  \"PT\": \"Portugal\",\n",
    "  \"RO\": \"Romania\",\n",
    "  \"SE\": \"Sweden\",\n",
    "  \"SI\": \"Slovenia\",\n",
    "  \"SK\": \"Slovakia\"\n",
    "}\n",
    " ```\n",
    "The rate object contains the country name, the local name of the tax in the local language, its abbreviation, and a couple of different tax rates that exist in the country. The values are always numeric (with decimals), or a boolean false if the rate is not used in the country.\n",
    "\n",
    "- **Standard VAT rate (standard_rate)**: Rate that EU countries have to apply to all non-exempt goods and services.\n",
    "- **Reduced rates of VAT (reduced_rate)**: EU countries have also the option to apply one or two reduced rates."
   ]
  },
  {
   "cell_type": "markdown",
   "metadata": {},
   "source": [
    "# Architectural overview"
   ]
  },
  {
   "cell_type": "markdown",
   "metadata": {},
   "source": [
    "![Architectureal Overview](resources/images/architecture-overview.png)"
   ]
  },
  {
   "cell_type": "code",
   "execution_count": 1,
   "metadata": {},
   "outputs": [],
   "source": [
    "from pyspark.sql import SparkSession\n",
    "from pyspark import SparkContext\n",
    "from pyspark.sql.functions import mean\n",
    "import pandas as pd\n",
    "import seaborn as sns\n",
    "%matplotlib inline"
   ]
  },
  {
   "cell_type": "code",
   "execution_count": 2,
   "metadata": {},
   "outputs": [],
   "source": [
    "spark = SparkSession \\\n",
    "        .builder \\\n",
    "        .appName('Adidas Case Study') \\\n",
    "        .master(\"local[*]\") \\\n",
    "        .config(\"spark.driver.bindAddress\", \"127.0.0.1\") \\\n",
    "        .getOrCreate()\n",
    "\n",
    "sc = SparkContext.getOrCreate()"
   ]
  },
  {
   "cell_type": "code",
   "execution_count": 3,
   "metadata": {},
   "outputs": [],
   "source": [
    "file_path = 'resources/data/rates.json'"
   ]
  },
  {
   "cell_type": "code",
   "execution_count": 4,
   "metadata": {},
   "outputs": [],
   "source": [
    "sns.set_style(style=\"whitegrid\")"
   ]
  },
  {
   "cell_type": "markdown",
   "metadata": {},
   "source": [
    "# 1. Load the data"
   ]
  },
  {
   "cell_type": "code",
   "execution_count": 5,
   "metadata": {},
   "outputs": [],
   "source": [
    "df = pd.read_json(file_path)"
   ]
  },
  {
   "cell_type": "code",
   "execution_count": 6,
   "metadata": {},
   "outputs": [
    {
     "data": {
      "text/html": [
       "<div>\n",
       "<style scoped>\n",
       "    .dataframe tbody tr th:only-of-type {\n",
       "        vertical-align: middle;\n",
       "    }\n",
       "\n",
       "    .dataframe tbody tr th {\n",
       "        vertical-align: top;\n",
       "    }\n",
       "\n",
       "    .dataframe thead th {\n",
       "        text-align: right;\n",
       "    }\n",
       "</style>\n",
       "<table border=\"1\" class=\"dataframe\">\n",
       "  <thead>\n",
       "    <tr style=\"text-align: right;\">\n",
       "      <th></th>\n",
       "      <th>last_updated</th>\n",
       "      <th>disclaimer</th>\n",
       "      <th>rates</th>\n",
       "    </tr>\n",
       "  </thead>\n",
       "  <tbody>\n",
       "    <tr>\n",
       "      <th>AT</th>\n",
       "      <td>2021-05-27T01:20Z</td>\n",
       "      <td>This data is compiled from official European C...</td>\n",
       "      <td>{'country': 'Austria', 'vat_name': 'Umsatzsteu...</td>\n",
       "    </tr>\n",
       "    <tr>\n",
       "      <th>BE</th>\n",
       "      <td>2021-05-27T01:20Z</td>\n",
       "      <td>This data is compiled from official European C...</td>\n",
       "      <td>{'country': 'Belgium', 'vat_name': 'Taxe sur l...</td>\n",
       "    </tr>\n",
       "    <tr>\n",
       "      <th>BG</th>\n",
       "      <td>2021-05-27T01:20Z</td>\n",
       "      <td>This data is compiled from official European C...</td>\n",
       "      <td>{'country': 'Bulgaria', 'vat_name': 'Dana Doba...</td>\n",
       "    </tr>\n",
       "    <tr>\n",
       "      <th>CY</th>\n",
       "      <td>2021-05-27T01:20Z</td>\n",
       "      <td>This data is compiled from official European C...</td>\n",
       "      <td>{'country': 'Cyprus', 'vat_name': 'Foros prost...</td>\n",
       "    </tr>\n",
       "    <tr>\n",
       "      <th>CZ</th>\n",
       "      <td>2021-05-27T01:20Z</td>\n",
       "      <td>This data is compiled from official European C...</td>\n",
       "      <td>{'country': 'Czech Republic', 'vat_name': 'Dan...</td>\n",
       "    </tr>\n",
       "  </tbody>\n",
       "</table>\n",
       "</div>"
      ],
      "text/plain": [
       "         last_updated                                         disclaimer  \\\n",
       "AT  2021-05-27T01:20Z  This data is compiled from official European C...   \n",
       "BE  2021-05-27T01:20Z  This data is compiled from official European C...   \n",
       "BG  2021-05-27T01:20Z  This data is compiled from official European C...   \n",
       "CY  2021-05-27T01:20Z  This data is compiled from official European C...   \n",
       "CZ  2021-05-27T01:20Z  This data is compiled from official European C...   \n",
       "\n",
       "                                                rates  \n",
       "AT  {'country': 'Austria', 'vat_name': 'Umsatzsteu...  \n",
       "BE  {'country': 'Belgium', 'vat_name': 'Taxe sur l...  \n",
       "BG  {'country': 'Bulgaria', 'vat_name': 'Dana Doba...  \n",
       "CY  {'country': 'Cyprus', 'vat_name': 'Foros prost...  \n",
       "CZ  {'country': 'Czech Republic', 'vat_name': 'Dan...  "
      ]
     },
     "execution_count": 6,
     "metadata": {},
     "output_type": "execute_result"
    }
   ],
   "source": [
    "df.head()"
   ]
  },
  {
   "cell_type": "code",
   "execution_count": 7,
   "metadata": {},
   "outputs": [
    {
     "data": {
      "text/html": [
       "<div>\n",
       "<style scoped>\n",
       "    .dataframe tbody tr th:only-of-type {\n",
       "        vertical-align: middle;\n",
       "    }\n",
       "\n",
       "    .dataframe tbody tr th {\n",
       "        vertical-align: top;\n",
       "    }\n",
       "\n",
       "    .dataframe thead th {\n",
       "        text-align: right;\n",
       "    }\n",
       "</style>\n",
       "<table border=\"1\" class=\"dataframe\">\n",
       "  <thead>\n",
       "    <tr style=\"text-align: right;\">\n",
       "      <th></th>\n",
       "      <th>country</th>\n",
       "      <th>vat_name</th>\n",
       "      <th>vat_abbr</th>\n",
       "      <th>standard_rate</th>\n",
       "      <th>reduced_rate</th>\n",
       "      <th>reduced_rate_alt</th>\n",
       "      <th>super_reduced_rate</th>\n",
       "      <th>parking_rate</th>\n",
       "    </tr>\n",
       "  </thead>\n",
       "  <tbody>\n",
       "    <tr>\n",
       "      <th>AT</th>\n",
       "      <td>Austria</td>\n",
       "      <td>Umsatzsteuer</td>\n",
       "      <td>USt</td>\n",
       "      <td>20.0</td>\n",
       "      <td>10</td>\n",
       "      <td>13</td>\n",
       "      <td>False</td>\n",
       "      <td>12</td>\n",
       "    </tr>\n",
       "    <tr>\n",
       "      <th>BE</th>\n",
       "      <td>Belgium</td>\n",
       "      <td>Taxe sur la valeur ajoutée</td>\n",
       "      <td>TVA/BTW</td>\n",
       "      <td>21.0</td>\n",
       "      <td>12</td>\n",
       "      <td>6</td>\n",
       "      <td>False</td>\n",
       "      <td>12</td>\n",
       "    </tr>\n",
       "    <tr>\n",
       "      <th>BG</th>\n",
       "      <td>Bulgaria</td>\n",
       "      <td>Dana Dobavena Stoynost</td>\n",
       "      <td>DDS</td>\n",
       "      <td>20.0</td>\n",
       "      <td>9</td>\n",
       "      <td>False</td>\n",
       "      <td>False</td>\n",
       "      <td>False</td>\n",
       "    </tr>\n",
       "    <tr>\n",
       "      <th>CY</th>\n",
       "      <td>Cyprus</td>\n",
       "      <td>Foros prostithemenis axias</td>\n",
       "      <td>FPA</td>\n",
       "      <td>19.0</td>\n",
       "      <td>9</td>\n",
       "      <td>5</td>\n",
       "      <td>False</td>\n",
       "      <td>False</td>\n",
       "    </tr>\n",
       "    <tr>\n",
       "      <th>CZ</th>\n",
       "      <td>Czech Republic</td>\n",
       "      <td>Dani z pridane hotnoty</td>\n",
       "      <td>DPH</td>\n",
       "      <td>21.0</td>\n",
       "      <td>15</td>\n",
       "      <td>10</td>\n",
       "      <td>False</td>\n",
       "      <td>False</td>\n",
       "    </tr>\n",
       "  </tbody>\n",
       "</table>\n",
       "</div>"
      ],
      "text/plain": [
       "           country                    vat_name vat_abbr  standard_rate  \\\n",
       "AT         Austria                Umsatzsteuer      USt           20.0   \n",
       "BE         Belgium  Taxe sur la valeur ajoutée  TVA/BTW           21.0   \n",
       "BG        Bulgaria      Dana Dobavena Stoynost      DDS           20.0   \n",
       "CY          Cyprus  Foros prostithemenis axias      FPA           19.0   \n",
       "CZ  Czech Republic      Dani z pridane hotnoty      DPH           21.0   \n",
       "\n",
       "   reduced_rate reduced_rate_alt super_reduced_rate parking_rate  \n",
       "AT           10               13              False           12  \n",
       "BE           12                6              False           12  \n",
       "BG            9            False              False        False  \n",
       "CY            9                5              False        False  \n",
       "CZ           15               10              False        False  "
      ]
     },
     "execution_count": 7,
     "metadata": {},
     "output_type": "execute_result"
    }
   ],
   "source": [
    "df_flattened = pd.concat([df.drop(['last_updated', 'disclaimer', 'rates'], axis=1), \\\n",
    "                          df.rates.apply(pd.Series)], axis=1)\n",
    "df_flattened.head(5)"
   ]
  },
  {
   "cell_type": "markdown",
   "metadata": {},
   "source": [
    "Check column types"
   ]
  },
  {
   "cell_type": "code",
   "execution_count": 8,
   "metadata": {},
   "outputs": [
    {
     "name": "stdout",
     "output_type": "stream",
     "text": [
      "<class 'pandas.core.frame.DataFrame'>\n",
      "Index: 27 entries, AT to SK\n",
      "Data columns (total 8 columns):\n",
      " #   Column              Non-Null Count  Dtype  \n",
      "---  ------              --------------  -----  \n",
      " 0   country             27 non-null     object \n",
      " 1   vat_name            27 non-null     object \n",
      " 2   vat_abbr            27 non-null     object \n",
      " 3   standard_rate       27 non-null     float64\n",
      " 4   reduced_rate        27 non-null     object \n",
      " 5   reduced_rate_alt    27 non-null     object \n",
      " 6   super_reduced_rate  27 non-null     object \n",
      " 7   parking_rate        27 non-null     object \n",
      "dtypes: float64(1), object(7)\n",
      "memory usage: 1.9+ KB\n"
     ]
    }
   ],
   "source": [
    "df_flattened.info()"
   ]
  },
  {
   "cell_type": "markdown",
   "metadata": {},
   "source": [
    "Transform numerical columns"
   ]
  },
  {
   "cell_type": "code",
   "execution_count": 9,
   "metadata": {},
   "outputs": [],
   "source": [
    "num_columns = ['standard_rate', 'reduced_rate', 'reduced_rate_alt', 'super_reduced_rate', 'parking_rate']"
   ]
  },
  {
   "cell_type": "code",
   "execution_count": 10,
   "metadata": {},
   "outputs": [
    {
     "data": {
      "text/plain": [
       "standard_rate          0\n",
       "reduced_rate           1\n",
       "reduced_rate_alt       8\n",
       "super_reduced_rate    23\n",
       "parking_rate          22\n",
       "dtype: int64"
      ]
     },
     "execution_count": 10,
     "metadata": {},
     "output_type": "execute_result"
    }
   ],
   "source": [
    "(df_flattened[num_columns] == False).sum()"
   ]
  },
  {
   "cell_type": "code",
   "execution_count": 11,
   "metadata": {},
   "outputs": [
    {
     "data": {
      "text/plain": [
       "standard_rate          0\n",
       "reduced_rate           1\n",
       "reduced_rate_alt       8\n",
       "super_reduced_rate    23\n",
       "parking_rate          22\n",
       "dtype: int64"
      ]
     },
     "execution_count": 11,
     "metadata": {},
     "output_type": "execute_result"
    }
   ],
   "source": [
    "(df_flattened[num_columns] == 0).sum()"
   ]
  },
  {
   "cell_type": "code",
   "execution_count": 12,
   "metadata": {},
   "outputs": [
    {
     "name": "stdout",
     "output_type": "stream",
     "text": [
      "<class 'pandas.core.frame.DataFrame'>\n",
      "Index: 27 entries, AT to SK\n",
      "Data columns (total 8 columns):\n",
      " #   Column              Non-Null Count  Dtype  \n",
      "---  ------              --------------  -----  \n",
      " 0   country             27 non-null     object \n",
      " 1   vat_name            27 non-null     object \n",
      " 2   vat_abbr            27 non-null     object \n",
      " 3   standard_rate       27 non-null     float64\n",
      " 4   reduced_rate        27 non-null     float64\n",
      " 5   reduced_rate_alt    27 non-null     float64\n",
      " 6   super_reduced_rate  27 non-null     float64\n",
      " 7   parking_rate        27 non-null     float64\n",
      "dtypes: float64(5), object(3)\n",
      "memory usage: 1.9+ KB\n"
     ]
    }
   ],
   "source": [
    "df_flattened[num_columns] = df_flattened[num_columns].astype(float, errors = 'raise')\n",
    "df_flattened.info()"
   ]
  },
  {
   "cell_type": "code",
   "execution_count": 13,
   "metadata": {},
   "outputs": [
    {
     "data": {
      "text/plain": [
       "standard_rate          0\n",
       "reduced_rate           1\n",
       "reduced_rate_alt       8\n",
       "super_reduced_rate    23\n",
       "parking_rate          22\n",
       "dtype: int64"
      ]
     },
     "execution_count": 13,
     "metadata": {},
     "output_type": "execute_result"
    }
   ],
   "source": [
    "(df_flattened[num_columns] == 0).sum()"
   ]
  },
  {
   "cell_type": "markdown",
   "metadata": {},
   "source": [
    "Create Spark DataFrame"
   ]
  },
  {
   "cell_type": "code",
   "execution_count": 14,
   "metadata": {},
   "outputs": [
    {
     "name": "stdout",
     "output_type": "stream",
     "text": [
      "root\n",
      " |-- country: string (nullable = true)\n",
      " |-- vat_name: string (nullable = true)\n",
      " |-- vat_abbr: string (nullable = true)\n",
      " |-- standard_rate: double (nullable = true)\n",
      " |-- reduced_rate: double (nullable = true)\n",
      " |-- reduced_rate_alt: double (nullable = true)\n",
      " |-- super_reduced_rate: double (nullable = true)\n",
      " |-- parking_rate: double (nullable = true)\n",
      "\n",
      "+--------------+--------------------+--------+-------------+------------+----------------+------------------+------------+\n",
      "|       country|            vat_name|vat_abbr|standard_rate|reduced_rate|reduced_rate_alt|super_reduced_rate|parking_rate|\n",
      "+--------------+--------------------+--------+-------------+------------+----------------+------------------+------------+\n",
      "|       Austria|        Umsatzsteuer|     USt|         20.0|        10.0|            13.0|               0.0|        12.0|\n",
      "|       Belgium|Taxe sur la valeu...| TVA/BTW|         21.0|        12.0|             6.0|               0.0|        12.0|\n",
      "|      Bulgaria|Dana Dobavena Sto...|     DDS|         20.0|         9.0|             0.0|               0.0|         0.0|\n",
      "|        Cyprus|Foros prostitheme...|     FPA|         19.0|         9.0|             5.0|               0.0|         0.0|\n",
      "|Czech Republic|Dani z pridane ho...|     DPH|         21.0|        15.0|            10.0|               0.0|         0.0|\n",
      "|       Germany|        Umsatzsteuer|     USt|         19.0|         7.0|             0.0|               0.0|         0.0|\n",
      "|       Denmark|   Omsaetningsavgift|    MOMS|         25.0|         0.0|             0.0|               0.0|         0.0|\n",
      "|       Estonia|           Käibemaks|    KMKR|         20.0|         9.0|             0.0|               0.0|         0.0|\n",
      "|         Spain|Impuesto sobre el...|     IVA|         21.0|        10.0|             0.0|               4.0|         0.0|\n",
      "|       Finland|       Arvonlisävero|     AVL|         24.0|        14.0|            10.0|               0.0|         0.0|\n",
      "|        France|Taxe sur la valeu...|     TVA|         20.0|        10.0|             5.5|               2.1|         0.0|\n",
      "|        Greece|Foros prostitheme...|     FPA|         24.0|        13.0|             6.0|               0.0|         0.0|\n",
      "|       Croatia|Porez na dodanu v...|     PDV|         25.0|        13.0|             5.0|               0.0|         0.0|\n",
      "|       Hungary|Általános forgalm...|     AFA|         27.0|        18.0|             5.0|               0.0|         0.0|\n",
      "|       Ireland|     Value added tax|     VAT|         23.0|        13.5|             9.0|               4.8|        13.5|\n",
      "|         Italy|Imposta sul valor...|     IVA|         22.0|        10.0|             4.0|               0.0|         0.0|\n",
      "|     Lithuania|Pridetines vertes...|     PVM|         21.0|         9.0|             5.0|               0.0|         0.0|\n",
      "|    Luxembourg|Taxe sur la valeu...|     TVA|         17.0|        14.0|             8.0|               3.0|        12.0|\n",
      "|        Latvia|Pievienotas verti...|     PVN|         21.0|        12.0|             0.0|               0.0|         0.0|\n",
      "|         Malta|     Value added tax|     VAT|         18.0|         7.0|             5.0|               0.0|         0.0|\n",
      "+--------------+--------------------+--------+-------------+------------+----------------+------------------+------------+\n",
      "only showing top 20 rows\n",
      "\n"
     ]
    }
   ],
   "source": [
    "spark_df = spark.createDataFrame(df_flattened) \n",
    "spark_df.printSchema()\n",
    "spark_df.show()"
   ]
  },
  {
   "cell_type": "markdown",
   "metadata": {},
   "source": [
    "# 2. Run queries"
   ]
  },
  {
   "cell_type": "code",
   "execution_count": 15,
   "metadata": {},
   "outputs": [],
   "source": [
    "spark_df.createOrReplaceTempView('euVATrates') # Create a sample table"
   ]
  },
  {
   "cell_type": "markdown",
   "metadata": {},
   "source": [
    "# Most common standard tax rates across Europe"
   ]
  },
  {
   "cell_type": "markdown",
   "metadata": {},
   "source": [
    "With Pandas"
   ]
  },
  {
   "cell_type": "code",
   "execution_count": 16,
   "metadata": {},
   "outputs": [
    {
     "data": {
      "text/plain": [
       "21.0    6\n",
       "20.0    5\n",
       "23.0    3\n",
       "25.0    3\n",
       "19.0    3\n",
       "22.0    2\n",
       "24.0    2\n",
       "18.0    1\n",
       "17.0    1\n",
       "27.0    1\n",
       "Name: standard_rate, dtype: int64"
      ]
     },
     "execution_count": 16,
     "metadata": {},
     "output_type": "execute_result"
    }
   ],
   "source": [
    "df_flattened['standard_rate'].value_counts()"
   ]
  },
  {
   "cell_type": "markdown",
   "metadata": {},
   "source": [
    "Graphically"
   ]
  },
  {
   "cell_type": "code",
   "execution_count": 17,
   "metadata": {},
   "outputs": [
    {
     "data": {
      "text/plain": [
       "[Text(0, 0.5, 'Count'), Text(0.5, 0, 'Standard Rate')]"
      ]
     },
     "execution_count": 17,
     "metadata": {},
     "output_type": "execute_result"
    },
    {
     "data": {
      "image/png": "[encoded data removed]",
      "text/plain": [
       "<Figure size 432x288 with 1 Axes>"
      ]
     },
     "metadata": {},
     "output_type": "display_data"
    }
   ],
   "source": [
    "stvat = sns.countplot(x='standard_rate', \\\n",
    "                      data=df_flattened, \\\n",
    "                      order = df_flattened['standard_rate'].value_counts().index)\n",
    "stvat.set(xlabel='Standard Rate', ylabel='Count')"
   ]
  },
  {
   "cell_type": "markdown",
   "metadata": {},
   "source": [
    "Query with PySpark"
   ]
  },
  {
   "cell_type": "code",
   "execution_count": 18,
   "metadata": {},
   "outputs": [
    {
     "name": "stdout",
     "output_type": "stream",
     "text": [
      "+-------------+-----+\n",
      "|standard_rate|count|\n",
      "+-------------+-----+\n",
      "|         21.0|    6|\n",
      "|         20.0|    5|\n",
      "|         19.0|    3|\n",
      "|         25.0|    3|\n",
      "|         23.0|    3|\n",
      "|         22.0|    2|\n",
      "|         24.0|    2|\n",
      "|         27.0|    1|\n",
      "|         17.0|    1|\n",
      "|         18.0|    1|\n",
      "+-------------+-----+\n",
      "\n"
     ]
    }
   ],
   "source": [
    "spark_df.groupby('standard_rate').count().orderBy('count', ascending=False).show()"
   ]
  },
  {
   "cell_type": "markdown",
   "metadata": {},
   "source": [
    "Get countries with most common standard tax rates (21.0 and 20.0)"
   ]
  },
  {
   "cell_type": "code",
   "execution_count": 19,
   "metadata": {},
   "outputs": [
    {
     "name": "stdout",
     "output_type": "stream",
     "text": [
      "+--------------+-------------+---------+\n",
      "|       country|standard_rate|std_count|\n",
      "+--------------+-------------+---------+\n",
      "|       Estonia|         20.0|        5|\n",
      "|       Austria|         20.0|        5|\n",
      "|        France|         20.0|        5|\n",
      "|      Bulgaria|         20.0|        5|\n",
      "|      Slovakia|         20.0|        5|\n",
      "|       Belgium|         21.0|        6|\n",
      "|         Spain|         21.0|        6|\n",
      "|Czech Republic|         21.0|        6|\n",
      "|     Lithuania|         21.0|        6|\n",
      "|        Latvia|         21.0|        6|\n",
      "|   Netherlands|         21.0|        6|\n",
      "+--------------+-------------+---------+\n",
      "\n"
     ]
    }
   ],
   "source": [
    "spark.sql(\"SELECT a.country, a.standard_rate, b.std_count \\\n",
    "           FROM euVATrates a \\\n",
    "                INNER JOIN \\\n",
    "                    (SELECT standard_rate, count(*) AS std_count \\\n",
    "                        FROM euVATrates \\\n",
    "                    GROUP BY standard_rate) b \\\n",
    "                ON a.standard_rate = b.standard_rate AND b.std_count >=5 \\\n",
    "            ORDER BY a.standard_rate\").show()"
   ]
  },
  {
   "cell_type": "markdown",
   "metadata": {},
   "source": [
    "# Countries which are more than 20% above the average of standard VAT rate"
   ]
  },
  {
   "cell_type": "markdown",
   "metadata": {},
   "source": [
    "Query with PySpark methods"
   ]
  },
  {
   "cell_type": "code",
   "execution_count": 20,
   "metadata": {},
   "outputs": [
    {
     "name": "stdout",
     "output_type": "stream",
     "text": [
      "Average: 21.51851851851852\n",
      "20% above average: 25.822222222222223\n",
      "+-------+-------------+\n",
      "|country|standard_rate|\n",
      "+-------+-------------+\n",
      "|Hungary|         27.0|\n",
      "+-------+-------------+\n",
      "\n"
     ]
    }
   ],
   "source": [
    "avg = spark_df.select(mean('standard_rate')).collect()[0][0]\n",
    "print('Average: {}'.format(avg))\n",
    "print('20% above average: {}'.format(avg * 1.2))\n",
    "spark_df.select('country', 'standard_rate').where(spark_df['standard_rate'] > avg * 1.2).show()"
   ]
  },
  {
   "cell_type": "markdown",
   "metadata": {},
   "source": [
    "Query with SQL"
   ]
  },
  {
   "cell_type": "code",
   "execution_count": 21,
   "metadata": {},
   "outputs": [
    {
     "name": "stdout",
     "output_type": "stream",
     "text": [
      "+-------+-------------+\n",
      "|country|standard_rate|\n",
      "+-------+-------------+\n",
      "|Hungary|         27.0|\n",
      "+-------+-------------+\n",
      "\n"
     ]
    }
   ],
   "source": [
    "spark.sql(\"SELECT country, standard_rate \\\n",
    "          FROM euVATrates \\\n",
    "          WHERE standard_rate > (SELECT avg(standard_rate) FROM euVATrates) * 1.2\").show()"
   ]
  },
  {
   "cell_type": "markdown",
   "metadata": {},
   "source": [
    "# Countries where the range between reduced and standard rate is not overlapping"
   ]
  },
  {
   "cell_type": "markdown",
   "metadata": {},
   "source": [
    "Remove records that don't have the reduced_rate value"
   ]
  },
  {
   "cell_type": "code",
   "execution_count": 22,
   "metadata": {},
   "outputs": [
    {
     "data": {
      "text/plain": [
       "26"
      ]
     },
     "execution_count": 22,
     "metadata": {},
     "output_type": "execute_result"
    }
   ],
   "source": [
    "spark_df_reduced = spark_df.select('country', 'reduced_rate', 'standard_rate') \\\n",
    "                    .where(spark_df['reduced_rate'] != 0)\n",
    "spark_df_reduced.count()"
   ]
  },
  {
   "cell_type": "code",
   "execution_count": 23,
   "metadata": {},
   "outputs": [
    {
     "name": "stdout",
     "output_type": "stream",
     "text": [
      "+--------------+------------+-------------+\n",
      "|       country|reduced_rate|standard_rate|\n",
      "+--------------+------------+-------------+\n",
      "|       Austria|        10.0|         20.0|\n",
      "|       Belgium|        12.0|         21.0|\n",
      "|      Bulgaria|         9.0|         20.0|\n",
      "|        Cyprus|         9.0|         19.0|\n",
      "|Czech Republic|        15.0|         21.0|\n",
      "|       Germany|         7.0|         19.0|\n",
      "|       Estonia|         9.0|         20.0|\n",
      "|         Spain|        10.0|         21.0|\n",
      "|       Finland|        14.0|         24.0|\n",
      "|        France|        10.0|         20.0|\n",
      "|        Greece|        13.0|         24.0|\n",
      "|       Croatia|        13.0|         25.0|\n",
      "|       Hungary|        18.0|         27.0|\n",
      "|       Ireland|        13.5|         23.0|\n",
      "|         Italy|        10.0|         22.0|\n",
      "|     Lithuania|         9.0|         21.0|\n",
      "|    Luxembourg|        14.0|         17.0|\n",
      "|        Latvia|        12.0|         21.0|\n",
      "|         Malta|         7.0|         18.0|\n",
      "|   Netherlands|         9.0|         21.0|\n",
      "|        Poland|         8.0|         23.0|\n",
      "|      Portugal|        13.0|         23.0|\n",
      "|       Romania|         9.0|         19.0|\n",
      "|        Sweden|        12.0|         25.0|\n",
      "|      Slovenia|         9.5|         22.0|\n",
      "|      Slovakia|        10.0|         20.0|\n",
      "+--------------+------------+-------------+\n",
      "\n"
     ]
    }
   ],
   "source": [
    "spark_df_reduced.show(26)"
   ]
  },
  {
   "cell_type": "code",
   "execution_count": 24,
   "metadata": {},
   "outputs": [],
   "source": [
    "spark_df_reduced.createOrReplaceTempView('euVATratesRed') # Create a sample table"
   ]
  },
  {
   "cell_type": "markdown",
   "metadata": {},
   "source": [
    "Create view with overlapping information between countries"
   ]
  },
  {
   "cell_type": "code",
   "execution_count": 34,
   "metadata": {},
   "outputs": [
    {
     "name": "stdout",
     "output_type": "stream",
     "text": [
      "+---------+-----+-----+--------------+-----+-----+\n",
      "|country_A|red_A|std_A|     country_B|red_B|std_B|\n",
      "+---------+-----+-----+--------------+-----+-----+\n",
      "|  Austria| 10.0| 20.0|       Belgium| 12.0| 21.0|\n",
      "|  Belgium| 12.0| 21.0|       Austria| 10.0| 20.0|\n",
      "|  Austria| 10.0| 20.0|      Bulgaria|  9.0| 20.0|\n",
      "|  Austria| 10.0| 20.0|        Cyprus|  9.0| 19.0|\n",
      "|  Belgium| 12.0| 21.0|      Bulgaria|  9.0| 20.0|\n",
      "|  Belgium| 12.0| 21.0|        Cyprus|  9.0| 19.0|\n",
      "|  Austria| 10.0| 20.0|Czech Republic| 15.0| 21.0|\n",
      "|  Austria| 10.0| 20.0|       Germany|  7.0| 19.0|\n",
      "|  Belgium| 12.0| 21.0|Czech Republic| 15.0| 21.0|\n",
      "|  Belgium| 12.0| 21.0|       Germany|  7.0| 19.0|\n",
      "|  Austria| 10.0| 20.0|       Estonia|  9.0| 20.0|\n",
      "|  Belgium| 12.0| 21.0|       Estonia|  9.0| 20.0|\n",
      "|  Austria| 10.0| 20.0|         Spain| 10.0| 21.0|\n",
      "|  Austria| 10.0| 20.0|       Finland| 14.0| 24.0|\n",
      "|  Belgium| 12.0| 21.0|         Spain| 10.0| 21.0|\n",
      "|  Belgium| 12.0| 21.0|       Finland| 14.0| 24.0|\n",
      "|  Austria| 10.0| 20.0|        France| 10.0| 20.0|\n",
      "|  Austria| 10.0| 20.0|        Greece| 13.0| 24.0|\n",
      "|  Austria| 10.0| 20.0|       Croatia| 13.0| 25.0|\n",
      "|  Austria| 10.0| 20.0|       Hungary| 18.0| 27.0|\n",
      "+---------+-----+-----+--------------+-----+-----+\n",
      "only showing top 20 rows\n",
      "\n"
     ]
    }
   ],
   "source": [
    "overlaps = spark.sql(\"SELECT a.country country_A, a.reduced_rate red_A, a.standard_rate std_A, \\\n",
    "                             b.country country_B, b.reduced_rate red_B, b.standard_rate std_B \\\n",
    "                      FROM euVATratesRed a  \\\n",
    "                      INNER JOIN euVATratesRed b \\\n",
    "                        ON a.country <> b.country \\\n",
    "                        AND (a.reduced_rate BETWEEN b.reduced_rate AND b.standard_rate \\\n",
    "                                OR a.standard_rate BETWEEN b.reduced_rate AND b.standard_rate)\")\n",
    "overlaps.show()\n",
    "overlaps.createOrReplaceTempView('overlaps') # Create a sample table"
   ]
  },
  {
   "cell_type": "code",
   "execution_count": 35,
   "metadata": {},
   "outputs": [
    {
     "data": {
      "text/plain": [
       "582"
      ]
     },
     "execution_count": 35,
     "metadata": {},
     "output_type": "execute_result"
    }
   ],
   "source": [
    "overlaps.count()"
   ]
  },
  {
   "cell_type": "markdown",
   "metadata": {},
   "source": [
    "Get countries that don't belong to the previous view"
   ]
  },
  {
   "cell_type": "code",
   "execution_count": 36,
   "metadata": {},
   "outputs": [
    {
     "name": "stdout",
     "output_type": "stream",
     "text": [
      "+-------+------------+-------------+\n",
      "|country|reduced_rate|standard_rate|\n",
      "+-------+------------+-------------+\n",
      "+-------+------------+-------------+\n",
      "\n"
     ]
    }
   ],
   "source": [
    "spark.sql(\"SELECT * FROM euVATratesRed \\\n",
    "           WHERE country NOT IN (SELECT country_A FROM Overlaps) \\\n",
    "            AND country NOT IN (SELECT country_B FROM overlaps) \\\n",
    "           ORDER BY country\").show()"
   ]
  }
 ],
 "metadata": {
  "kernelspec": {
   "display_name": "Python 3",
   "language": "python",
   "name": "python3"
  },
  "language_info": {
   "codemirror_mode": {
    "name": "ipython",
    "version": 3
   },
   "file_extension": ".py",
   "mimetype": "text/x-python",
   "name": "python",
   "nbconvert_exporter": "python",
   "pygments_lexer": "ipython3",
   "version": "3.8.3"
  }
 },
 "nbformat": 4,
 "nbformat_minor": 4
}
